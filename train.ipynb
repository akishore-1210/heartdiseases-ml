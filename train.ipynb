{
 "cells": [
  {
   "cell_type": "code",
   "execution_count": null,
   "metadata": {},
   "outputs": [
    {
     "name": "stderr",
     "output_type": "stream",
     "text": [
      "<>:8: SyntaxWarning: invalid escape sequence '\\P'\n",
      "<>:8: SyntaxWarning: invalid escape sequence '\\P'\n",
      "C:\\Users\\KISHORE\\AppData\\Local\\Temp\\ipykernel_9740\\930076600.py:8: SyntaxWarning: invalid escape sequence '\\P'\n",
      "  df = pd.read_csv(\"D:\\Projects\\heart_disease_risk_dataset_earlymed.csv\")\n"
     ]
    }
   ],
   "source": [
    "import numpy as np\n",
    "import pandas as pd\n",
    "from sklearn.model_selection import train_test_split\n",
    "from sklearn.linear_model import LogisticRegression\n",
    "import joblib\n",
    "\n",
    "\n",
    "df = pd.read_csv(\"D:\\Projects\\heart_disease_risk_dataset_earlymed.csv\")  \n",
    "features = [\"Age\", \"High_BP\", \"High_Cholesterol\", \"Diabetes\", \"Smoking\", \"Obesity\"]\n",
    "X = df[features]\n",
    "Y = df[\"Heart_Risk\"]\n",
    "\n",
    "\n",
    "trainX, testX, trainY, testY = train_test_split(X, Y, test_size=0.2, random_state=1)\n",
    "\n",
    "\n",
    "log_model = LogisticRegression(max_iter=200, random_state=1)\n",
    "log_model.fit(trainX, trainY)\n",
    "\n",
    "\n",
    "joblib.dump(log_model, \"heart_model.pkl\")\n",
    "print(\"Model training complete. Model saved as heart_model.pkl.\")\n"
   ]
  }
 ],
 "metadata": {
  "kernelspec": {
   "display_name": "Python (myenv)",
   "language": "python",
   "name": "myenv"
  },
  "language_info": {
   "codemirror_mode": {
    "name": "ipython",
    "version": 3
   },
   "file_extension": ".py",
   "mimetype": "text/x-python",
   "name": "python",
   "nbconvert_exporter": "python",
   "pygments_lexer": "ipython3",
   "version": "3.12.3"
  }
 },
 "nbformat": 4,
 "nbformat_minor": 2
}
